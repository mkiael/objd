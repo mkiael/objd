{
 "cells": [
  {
   "cell_type": "markdown",
   "id": "9c362fe3-03fc-44e1-a996-43483a2e2b15",
   "metadata": {},
   "source": [
    "## Install LabelImg for image annotation"
   ]
  },
  {
   "cell_type": "code",
   "execution_count": null,
   "id": "9e5d49ad-b2e1-406e-baf7-a87a7284afd0",
   "metadata": {},
   "outputs": [],
   "source": [
    "import pathlib\n",
    "import subprocess"
   ]
  },
  {
   "cell_type": "code",
   "execution_count": null,
   "id": "d7e21a13-38b8-45c5-b5da-7aae2a7eca59",
   "metadata": {},
   "outputs": [],
   "source": [
    "!pip install --upgrade pyqt5 lxml"
   ]
  },
  {
   "cell_type": "code",
   "execution_count": null,
   "id": "bd78e514-11a2-4e96-a98a-40eb4c686746",
   "metadata": {},
   "outputs": [],
   "source": [
    "LABELIMG_PATH = pathlib.Path('tf/labelimg')\n",
    "if not LABELIMG_PATH.exists():\n",
    "    !git clone https://github.com/tzutalin/labelImg {str(LABELIMG_PATH)}\n",
    "subprocess.run(['pyrcc5', '-o', 'libs/resources.py', 'resources.qrc'], cwd=str(LABELIMG_PATH))"
   ]
  },
  {
   "cell_type": "code",
   "execution_count": null,
   "id": "d1b87b30-9411-4fd3-9aeb-a2fea8efcb20",
   "metadata": {},
   "outputs": [],
   "source": [
    "!cd {LABELIMG_PATH} && python labelImg.py"
   ]
  }
 ],
 "metadata": {
  "kernelspec": {
   "display_name": "odenv",
   "language": "python",
   "name": "odenv"
  },
  "language_info": {
   "codemirror_mode": {
    "name": "ipython",
    "version": 3
   },
   "file_extension": ".py",
   "mimetype": "text/x-python",
   "name": "python",
   "nbconvert_exporter": "python",
   "pygments_lexer": "ipython3",
   "version": "3.9.9"
  }
 },
 "nbformat": 4,
 "nbformat_minor": 5
}
